{
 "cells": [
  {
   "cell_type": "markdown",
   "id": "8eb4502d",
   "metadata": {},
   "source": [
    "## Server\n",
    "The server runs the QickSoc code and exposes it to the network.\n",
    "\n",
    "The nameserver must already be running (see the previous notebook in this directory).\n",
    "\n",
    "You can choose whatever proxy name you want, as long as you use the same one on the client. You could run multiple QICKs, each with a Pyro4 server, using different server names.\n",
    "\n",
    "You can use the notebook cells below, or the script in this directory (use `-h` for help), which must run as root with the PYNQ environment initialized:\n",
    "\n",
    "```\n",
    "sudo -s\n",
    "source /etc/profile\n",
    "python -m qick.pyro_cli myqick -n localhost -p 8888\n",
    "```\n",
    "\n",
    "Either way, leave the server running.\n",
    "\n",
    "Now you can start a client (see the next notebook in this directory).\n",
    "\n",
    "**\"localhost\" is only correct if you are running the nameserver on the QICK board. If the nameserver is elsewhere, you need to use its IP or a hostname that resolves to it.**"
   ]
  },
  {
   "cell_type": "code",
   "execution_count": 2,
   "id": "5976d31a",
   "metadata": {},
   "outputs": [
    {
     "name": "stdout",
     "output_type": "stream",
     "text": [
      "looking for nameserver . . .\n",
      "found nameserver\n"
     ]
    },
    {
     "data": {
      "application/javascript": [
       "\n",
       "try {\n",
       "require(['notebook/js/codecell'], function(codecell) {\n",
       "  codecell.CodeCell.options_default.highlight_modes[\n",
       "      'magic_text/x-csrc'] = {'reg':[/^%%microblaze/]};\n",
       "  Jupyter.notebook.events.one('kernel_ready.Kernel', function(){\n",
       "      Jupyter.notebook.get_cells().map(function(cell){\n",
       "          if (cell.cell_type == 'code'){ cell.auto_highlight(); } }) ;\n",
       "  });\n",
       "});\n",
       "} catch (e) {};\n"
      ]
     },
     "metadata": {},
     "output_type": "display_data"
    },
    {
     "data": {
      "application/javascript": [
       "\n",
       "try {\n",
       "require(['notebook/js/codecell'], function(codecell) {\n",
       "  codecell.CodeCell.options_default.highlight_modes[\n",
       "      'magic_text/x-csrc'] = {'reg':[/^%%pybind11/]};\n",
       "  Jupyter.notebook.events.one('kernel_ready.Kernel', function(){\n",
       "      Jupyter.notebook.get_cells().map(function(cell){\n",
       "          if (cell.cell_type == 'code'){ cell.auto_highlight(); } }) ;\n",
       "  });\n",
       "});\n",
       "} catch (e) {};\n"
      ]
     },
     "metadata": {},
     "output_type": "display_data"
    },
    {
     "ename": "ValueError",
     "evalue": "invalid literal for int() with base 10: '_12_o'",
     "output_type": "error",
     "traceback": [
      "\u001b[0;31m---------------------------------------------------------------------------\u001b[0m",
      "\u001b[0;31mValueError\u001b[0m                                Traceback (most recent call last)",
      "Input \u001b[0;32mIn [2]\u001b[0m, in \u001b[0;36m<cell line: 3>\u001b[0;34m()\u001b[0m\n\u001b[1;32m      1\u001b[0m \u001b[38;5;28;01mfrom\u001b[39;00m \u001b[38;5;21;01mqick\u001b[39;00m\u001b[38;5;21;01m.\u001b[39;00m\u001b[38;5;21;01mpyro\u001b[39;00m \u001b[38;5;28;01mimport\u001b[39;00m start_server\n\u001b[1;32m      2\u001b[0m \u001b[38;5;66;03m# start_server(ns_host=\"localhost\", ns_port=8888, proxy_name=\"myqick\")\u001b[39;00m\n\u001b[0;32m----> 3\u001b[0m \u001b[43mstart_server\u001b[49m\u001b[43m(\u001b[49m\u001b[43mns_host\u001b[49m\u001b[38;5;241;43m=\u001b[39;49m\u001b[38;5;124;43m\"\u001b[39;49m\u001b[38;5;124;43mlocalhost\u001b[39;49m\u001b[38;5;124;43m\"\u001b[39;49m\u001b[43m,\u001b[49m\u001b[43m \u001b[49m\u001b[43mns_port\u001b[49m\u001b[38;5;241;43m=\u001b[39;49m\u001b[38;5;241;43m8888\u001b[39;49m\u001b[43m,\u001b[49m\u001b[43m \u001b[49m\u001b[43mproxy_name\u001b[49m\u001b[38;5;241;43m=\u001b[39;49m\u001b[38;5;124;43m\"\u001b[39;49m\u001b[38;5;124;43mmyqick\u001b[39;49m\u001b[38;5;124;43m\"\u001b[39;49m\u001b[43m,\u001b[49m\u001b[43m \u001b[49m\u001b[43mbitfile\u001b[49m\u001b[38;5;241;43m=\u001b[39;49m\u001b[38;5;124;43m'\u001b[39;49m\u001b[38;5;124;43m/home/xilinx/jupyter_notebooks/qick/TII/bitstreams/216_tProc_v8.bit\u001b[39;49m\u001b[38;5;124;43m'\u001b[39;49m\u001b[43m)\u001b[49m\n",
      "File \u001b[0;32m/home/xilinx/jupyter_notebooks/qick/qick_lib/qick/pyro.py:72\u001b[0m, in \u001b[0;36mstart_server\u001b[0;34m(ns_host, ns_port, proxy_name, soc_class, **kwargs)\u001b[0m\n\u001b[1;32m     69\u001b[0m daemon \u001b[38;5;241m=\u001b[39m Pyro4\u001b[38;5;241m.\u001b[39mDaemon(host\u001b[38;5;241m=\u001b[39mhost)\n\u001b[1;32m     71\u001b[0m \u001b[38;5;66;03m# if you want to use a different firmware image or set some initialization options, you would do that here\u001b[39;00m\n\u001b[0;32m---> 72\u001b[0m soc \u001b[38;5;241m=\u001b[39m \u001b[43msoc_class\u001b[49m\u001b[43m(\u001b[49m\u001b[38;5;241;43m*\u001b[39;49m\u001b[38;5;241;43m*\u001b[39;49m\u001b[43mkwargs\u001b[49m\u001b[43m)\u001b[49m\n\u001b[1;32m     73\u001b[0m \u001b[38;5;28mprint\u001b[39m(\u001b[38;5;124m\"\u001b[39m\u001b[38;5;124minitialized QICK\u001b[39m\u001b[38;5;124m\"\u001b[39m)\n\u001b[1;32m     75\u001b[0m \u001b[38;5;66;03m# register the QickSoc in the daemon (so the daemon exposes the QickSoc over Pyro4)\u001b[39;00m\n\u001b[1;32m     76\u001b[0m \u001b[38;5;66;03m# and in the nameserver (so the client can find the QickSoc)\u001b[39;00m\n",
      "File \u001b[0;32m/home/xilinx/jupyter_notebooks/qick/qick_lib/qick/qick.py:316\u001b[0m, in \u001b[0;36mQickSoc.__init__\u001b[0;34m(self, bitfile, force_init_clks, ignore_version, no_tproc, no_rf, clk_output, external_clk, **kwargs)\u001b[0m\n\u001b[1;32m    312\u001b[0m     \u001b[38;5;28;01mraise\u001b[39;00m \u001b[38;5;167;01mRuntimeError\u001b[39;00m(\u001b[38;5;124m'\u001b[39m\u001b[38;5;124mNo tProcessor found\u001b[39m\u001b[38;5;124m'\u001b[39m)\n\u001b[1;32m    314\u001b[0m \u001b[38;5;66;03m#self.tnet = self.qick_net_0\u001b[39;00m\n\u001b[0;32m--> 316\u001b[0m \u001b[38;5;28;43mself\u001b[39;49m\u001b[38;5;241;43m.\u001b[39;49m\u001b[43mmap_signal_paths\u001b[49m\u001b[43m(\u001b[49m\u001b[43m)\u001b[49m\n\u001b[1;32m    318\u001b[0m \u001b[38;5;28mself\u001b[39m\u001b[38;5;241m.\u001b[39m_streamer \u001b[38;5;241m=\u001b[39m DataStreamer(\u001b[38;5;28mself\u001b[39m)\n\u001b[1;32m    320\u001b[0m \u001b[38;5;66;03m# list of objects that need to be registered for autoproxying over Pyro\u001b[39;00m\n",
      "File \u001b[0;32m/home/xilinx/jupyter_notebooks/qick/qick_lib/qick/qick.py:340\u001b[0m, in \u001b[0;36mQickSoc.map_signal_paths\u001b[0;34m(self)\u001b[0m\n\u001b[1;32m    338\u001b[0m \u001b[38;5;28;01mfor\u001b[39;00m key, val \u001b[38;5;129;01min\u001b[39;00m \u001b[38;5;28mself\u001b[39m\u001b[38;5;241m.\u001b[39mip_dict\u001b[38;5;241m.\u001b[39mitems():\n\u001b[1;32m    339\u001b[0m     \u001b[38;5;28;01mif\u001b[39;00m \u001b[38;5;28mhasattr\u001b[39m(val[\u001b[38;5;124m'\u001b[39m\u001b[38;5;124mdriver\u001b[39m\u001b[38;5;124m'\u001b[39m], \u001b[38;5;124m'\u001b[39m\u001b[38;5;124mconfigure_connections\u001b[39m\u001b[38;5;124m'\u001b[39m):\n\u001b[0;32m--> 340\u001b[0m         \u001b[38;5;28;43mgetattr\u001b[39;49m\u001b[43m(\u001b[49m\u001b[38;5;28;43mself\u001b[39;49m\u001b[43m,\u001b[49m\u001b[43m \u001b[49m\u001b[43mkey\u001b[49m\u001b[43m)\u001b[49m\u001b[38;5;241;43m.\u001b[39;49m\u001b[43mconfigure_connections\u001b[49m\u001b[43m(\u001b[49m\u001b[38;5;28;43mself\u001b[39;49m\u001b[43m)\u001b[49m\n\u001b[1;32m    342\u001b[0m \u001b[38;5;66;03m# Signal generators (anything driven by the tProc)\u001b[39;00m\n\u001b[1;32m    343\u001b[0m \u001b[38;5;28mself\u001b[39m\u001b[38;5;241m.\u001b[39mgens \u001b[38;5;241m=\u001b[39m []\n",
      "File \u001b[0;32m/home/xilinx/jupyter_notebooks/qick/qick_lib/qick/drivers/readout.py:579\u001b[0m, in \u001b[0;36mAxisAvgBuffer.configure_connections\u001b[0;34m(self, soc)\u001b[0m\n\u001b[1;32m    577\u001b[0m ((block, port),) \u001b[38;5;241m=\u001b[39m soc\u001b[38;5;241m.\u001b[39mmetadata\u001b[38;5;241m.\u001b[39mtrace_sig(\u001b[38;5;28mself\u001b[39m\u001b[38;5;241m.\u001b[39mfullpath, \u001b[38;5;124m'\u001b[39m\u001b[38;5;124mtrigger\u001b[39m\u001b[38;5;124m'\u001b[39m)\n\u001b[1;32m    578\u001b[0m \u001b[38;5;66;03m# vect2bits/qick_vec2bit port names are of the form 'dout14'\u001b[39;00m\n\u001b[0;32m--> 579\u001b[0m \u001b[38;5;28mself\u001b[39m\u001b[38;5;241m.\u001b[39mcfg[\u001b[38;5;124m'\u001b[39m\u001b[38;5;124mtrigger_bit\u001b[39m\u001b[38;5;124m'\u001b[39m] \u001b[38;5;241m=\u001b[39m \u001b[38;5;28;43mint\u001b[39;49m\u001b[43m(\u001b[49m\u001b[43mport\u001b[49m\u001b[43m[\u001b[49m\u001b[38;5;241;43m4\u001b[39;49m\u001b[43m:\u001b[49m\u001b[43m]\u001b[49m\u001b[43m)\u001b[49m\n\u001b[1;32m    581\u001b[0m \u001b[38;5;66;03m# which tProc output port triggers this buffer?\u001b[39;00m\n\u001b[1;32m    582\u001b[0m \u001b[38;5;66;03m# two possibilities:\u001b[39;00m\n\u001b[1;32m    583\u001b[0m \u001b[38;5;66;03m# tproc v1 output port -> axis_set_reg -> vect2bits -> buffer\u001b[39;00m\n\u001b[1;32m    584\u001b[0m \u001b[38;5;66;03m# tproc v2 data port -> vect2bits -> buffer\u001b[39;00m\n\u001b[1;32m    585\u001b[0m ((block, port),) \u001b[38;5;241m=\u001b[39m soc\u001b[38;5;241m.\u001b[39mmetadata\u001b[38;5;241m.\u001b[39mtrace_sig(block, \u001b[38;5;124m'\u001b[39m\u001b[38;5;124mdin\u001b[39m\u001b[38;5;124m'\u001b[39m)\n",
      "\u001b[0;31mValueError\u001b[0m: invalid literal for int() with base 10: '_12_o'"
     ]
    }
   ],
   "source": [
    "from qick.pyro import start_server\n",
    "# start_server(ns_host=\"localhost\", ns_port=8888, proxy_name=\"myqick\")\n",
    "start_server(ns_host=\"localhost\", ns_port=8888, proxy_name=\"myqick\", bitfile='/home/xilinx/jupyter_notebooks/qick/TII/bitstreams/216_tProc_v8.bit')"
   ]
  },
  {
   "cell_type": "code",
   "execution_count": 2,
   "id": "e6b32867",
   "metadata": {},
   "outputs": [
    {
     "name": "stdout",
     "output_type": "stream",
     "text": [
      "Help on function start_server in module qick_pyro:\n",
      "\n",
      "start_server(ns_host, ns_port=8888, proxy_name='myqick', **kwargs)\n",
      "    Initializes the QickSoc and starts a Pyro4 proxy server.\n",
      "    \n",
      "    Parameters\n",
      "    ----------\n",
      "    ns_host : str\n",
      "        hostname or IP address of the nameserver\n",
      "        if the nameserver is running on the QICK board, \"localhost\" is fine\n",
      "    ns_port : int\n",
      "        the port number you used when starting the nameserver\n",
      "    proxy_name : str\n",
      "        name for the QickSoc proxy\n",
      "        multiple boards can use the same nameserver, but must have different names\n",
      "    kwargs : optional named arguments\n",
      "        any other options will be passed to the QickSoc constructor;\n",
      "        see QickSoc documentation for details\n",
      "    \n",
      "    Returns\n",
      "    -------\n",
      "\n"
     ]
    }
   ],
   "source": [
    "help(start_server)"
   ]
  }
 ],
 "metadata": {
  "kernelspec": {
   "display_name": "Python 3 (ipykernel)",
   "language": "python",
   "name": "python3"
  },
  "language_info": {
   "codemirror_mode": {
    "name": "ipython",
    "version": 3
   },
   "file_extension": ".py",
   "mimetype": "text/x-python",
   "name": "python",
   "nbconvert_exporter": "python",
   "pygments_lexer": "ipython3",
   "version": "3.10.4"
  }
 },
 "nbformat": 4,
 "nbformat_minor": 5
}
