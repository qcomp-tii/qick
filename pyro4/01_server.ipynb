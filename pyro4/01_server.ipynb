{
 "cells": [
  {
   "cell_type": "markdown",
   "id": "8eb4502d",
   "metadata": {},
   "source": [
    "## Server\n",
    "The server runs the QickSoc code and exposes it to the network.\n",
    "\n",
    "The nameserver must already be running (see the previous notebook in this directory).\n",
    "\n",
    "You can choose whatever proxy name you want, as long as you use the same one on the client. You could run multiple QICKs, each with a Pyro4 server, using different server names.\n",
    "\n",
    "You can use the notebook cells below, or the script in this directory (use `-h` for help), which must run as root with the PYNQ environment initialized:\n",
    "\n",
    "```\n",
    "sudo -s\n",
    "source /etc/profile\n",
    "python -m qick.pyro_cli myqick -n localhost -p 8888\n",
    "```\n",
    "\n",
    "Either way, leave the server running.\n",
    "\n",
    "Now you can start a client (see the next notebook in this directory).\n",
    "\n",
    "**\"localhost\" is only correct if you are running the nameserver on the QICK board. If the nameserver is elsewhere, you need to use its IP or a hostname that resolves to it.**"
   ]
  },
  {
   "cell_type": "code",
   "execution_count": null,
   "id": "5976d31a",
   "metadata": {},
   "outputs": [
    {
     "name": "stdout",
     "output_type": "stream",
     "text": [
      "looking for nameserver . . .\n",
      "found nameserver\n"
     ]
    },
    {
     "data": {
      "application/javascript": [
       "\n",
       "try {\n",
       "require(['notebook/js/codecell'], function(codecell) {\n",
       "  codecell.CodeCell.options_default.highlight_modes[\n",
       "      'magic_text/x-csrc'] = {'reg':[/^%%microblaze/]};\n",
       "  Jupyter.notebook.events.one('kernel_ready.Kernel', function(){\n",
       "      Jupyter.notebook.get_cells().map(function(cell){\n",
       "          if (cell.cell_type == 'code'){ cell.auto_highlight(); } }) ;\n",
       "  });\n",
       "});\n",
       "} catch (e) {};\n"
      ]
     },
     "metadata": {},
     "output_type": "display_data"
    },
    {
     "data": {
      "application/javascript": [
       "\n",
       "try {\n",
       "require(['notebook/js/codecell'], function(codecell) {\n",
       "  codecell.CodeCell.options_default.highlight_modes[\n",
       "      'magic_text/x-csrc'] = {'reg':[/^%%pybind11/]};\n",
       "  Jupyter.notebook.events.one('kernel_ready.Kernel', function(){\n",
       "      Jupyter.notebook.get_cells().map(function(cell){\n",
       "          if (cell.cell_type == 'code'){ cell.auto_highlight(); } }) ;\n",
       "  });\n",
       "});\n",
       "} catch (e) {};\n"
      ]
     },
     "metadata": {},
     "output_type": "display_data"
    },
    {
     "name": "stdout",
     "output_type": "stream",
     "text": [
      "initialized QICK\n",
      "registered QICK\n",
      "registered member <qick.streamer.DataStreamer object at 0xffff4b0b7820>\n",
      "registered member ---------------------------------------------\n",
      " TPROC V2 INFO \n",
      "---------------------------------------------\n",
      "Configuration:\n",
      "fifo_depth    : 512\n",
      "call_depth    : 255\n",
      "pmem_size     : 4096\n",
      "dmem_size     : 16384\n",
      "wmem_size     : 1024\n",
      "dreg_qty      : 16\n",
      "in_port_qty   : 8\n",
      "out_trig_qty  : 18\n",
      "out_dport_qty : 1\n",
      "out_dport_dw  : 8\n",
      "out_wport_qty : 9\n",
      "----------\n",
      "Control:\n",
      "has_io_ctrl   : YES\n",
      "has_ext_flag  : NO\n",
      "----------\n",
      "Peripherals:\n",
      "has_lfsr      : YES\n",
      "has_divider   : YES\n",
      "has_arith     : YES\n",
      "has_time_read : YES\n",
      "has_tnet      : NO\n",
      "has_qcom      : NO\n",
      "has_custom_periph: NO\n",
      "----------\n",
      "Debug:\n",
      "debug         : NO\n",
      "----------\n",
      "Clocks:\n",
      "CORE CLK : 200.0Mhz\n",
      "TIME CLK : 430.08Mhz\n",
      "----------\n",
      "\n",
      "starting daemon\n"
     ]
    }
   ],
   "source": [
    "from qick.pyro import start_server\n",
    "start_server(ns_host=\"localhost\", ns_port=8888, proxy_name=\"myqick\", bitfile='/home/xilinx/jupyter_notebooks/qick/qick_demos/custom/drivers/216_tProc_v8.bit')\n",
    "# start_server(ns_host=\"localhost\", ns_port=8888, proxy_name=\"myqick\", bitfile='/home/xilinx/jupyter_notebooks/qick/qick_demos/custom/drivers/QCE2024_demo_qick_216.bit')"
   ]
  },
  {
   "cell_type": "code",
   "execution_count": 2,
   "id": "e6b32867",
   "metadata": {},
   "outputs": [
    {
     "name": "stdout",
     "output_type": "stream",
     "text": [
      "Help on function start_server in module qick_pyro:\n",
      "\n",
      "start_server(ns_host, ns_port=8888, proxy_name='myqick', **kwargs)\n",
      "    Initializes the QickSoc and starts a Pyro4 proxy server.\n",
      "    \n",
      "    Parameters\n",
      "    ----------\n",
      "    ns_host : str\n",
      "        hostname or IP address of the nameserver\n",
      "        if the nameserver is running on the QICK board, \"localhost\" is fine\n",
      "    ns_port : int\n",
      "        the port number you used when starting the nameserver\n",
      "    proxy_name : str\n",
      "        name for the QickSoc proxy\n",
      "        multiple boards can use the same nameserver, but must have different names\n",
      "    kwargs : optional named arguments\n",
      "        any other options will be passed to the QickSoc constructor;\n",
      "        see QickSoc documentation for details\n",
      "    \n",
      "    Returns\n",
      "    -------\n",
      "\n"
     ]
    }
   ],
   "source": [
    "help(start_server)"
   ]
  }
 ],
 "metadata": {
  "kernelspec": {
   "display_name": "Python 3 (ipykernel)",
   "language": "python",
   "name": "python3"
  },
  "language_info": {
   "codemirror_mode": {
    "name": "ipython",
    "version": 3
   },
   "file_extension": ".py",
   "mimetype": "text/x-python",
   "name": "python",
   "nbconvert_exporter": "python",
   "pygments_lexer": "ipython3",
   "version": "3.10.4"
  }
 },
 "nbformat": 4,
 "nbformat_minor": 5
}
