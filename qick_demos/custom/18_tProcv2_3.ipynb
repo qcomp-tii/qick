{
 "cells": [
  {
   "cell_type": "code",
   "execution_count": 2,
   "id": "f977cb2f-9956-4d14-ad55-469831ebd3fe",
   "metadata": {},
   "outputs": [],
   "source": [
    "%matplotlib inline\n",
    "import matplotlib.pyplot as plt\n",
    "import numpy as np\n",
    "from tqdm.auto import tqdm\n",
    "from qick import *\n",
    "from qick.asm_v2 import AveragerProgramV2"
   ]
  },
  {
   "cell_type": "code",
   "execution_count": null,
   "id": "8b6e7cfc-61a8-404d-a569-79f01b76f13a",
   "metadata": {},
   "outputs": [],
   "source": [
    "### IF YOU NEED TO REPROGRAM THE CLOCKS ###\n",
    "#import xrfclk \n",
    "#xrfclk.set_ref_clks(lmk_freq=245.76, lmx_freq=491.52)\n",
    "\n",
    "### IF YOU NEED TO CLEAR CACHE ###\n",
    "#from pynq.pl_server.global_state import clear_global_state\n",
    "#clear_global_state()"
   ]
  },
  {
   "cell_type": "code",
   "execution_count": null,
   "id": "d90ddbd4-e32a-499a-ac2a-5dceab4d7237",
   "metadata": {},
   "outputs": [
    {
     "data": {
      "application/javascript": "\ntry {\nrequire(['notebook/js/codecell'], function(codecell) {\n  codecell.CodeCell.options_default.highlight_modes[\n      'magic_text/x-csrc'] = {'reg':[/^%%microblaze/]};\n  Jupyter.notebook.events.one('kernel_ready.Kernel', function(){\n      Jupyter.notebook.get_cells().map(function(cell){\n          if (cell.cell_type == 'code'){ cell.auto_highlight(); } }) ;\n  });\n});\n} catch (e) {};\n"
     },
     "metadata": {},
     "output_type": "display_data"
    },
    {
     "data": {
      "application/javascript": "\ntry {\nrequire(['notebook/js/codecell'], function(codecell) {\n  codecell.CodeCell.options_default.highlight_modes[\n      'magic_text/x-csrc'] = {'reg':[/^%%pybind11/]};\n  Jupyter.notebook.events.one('kernel_ready.Kernel', function(){\n      Jupyter.notebook.get_cells().map(function(cell){\n          if (cell.cell_type == 'code'){ cell.auto_highlight(); } }) ;\n  });\n});\n} catch (e) {};\n"
     },
     "metadata": {},
     "output_type": "display_data"
    },
    {
     "name": "stdout",
     "output_type": "stream",
     "text": [
      "QICK running on ZCU216, software version 0.2.296\n",
      "\n",
      "Firmware configuration (built Thu Nov 14 10:01:25 2024):\n",
      "\n",
      "\tGlobal clocks (MHz): tProcessor 430.080, RF reference 245.760\n",
      "\n",
      "\t9 signal generator channels:\n",
      "\t0:\taxis_signal_gen_v6 - envelope memory 65536 samples (6.838 us)\n",
      "\t\tfs=9584.640 MHz, fabric=599.040 MHz, 32-bit DDS, range=9584.640 MHz\n",
      "\t\tDAC tile 2, blk 0 is 0_230, on JHC3\n",
      "\t1:\taxis_signal_gen_v6 - envelope memory 16384 samples (1.709 us)\n",
      "\t\tfs=9584.640 MHz, fabric=599.040 MHz, 32-bit DDS, range=9584.640 MHz\n",
      "\t\tDAC tile 2, blk 1 is 1_230, on JHC4\n",
      "\t2:\taxis_signal_gen_v6 - envelope memory 32768 samples (3.419 us)\n",
      "\t\tfs=9584.640 MHz, fabric=599.040 MHz, 32-bit DDS, range=9584.640 MHz\n",
      "\t\tDAC tile 2, blk 2 is 2_230, on JHC3\n",
      "\t3:\taxis_sg_int4_v2 - envelope memory 8192 samples (19.048 us)\n",
      "\t\tfs=6881.280 MHz, fabric=430.080 MHz, 32-bit DDS, range=1720.320 MHz\n",
      "\t\tDAC tile 1, blk 0 is 0_229, on JHC1\n",
      "\t4:\taxis_sg_mixmux8_v1 - envelope memory 0 samples (0.000 us)\n",
      "\t\tfs=6881.280 MHz, fabric=430.080 MHz, 32-bit DDS, range=1720.320 MHz\n",
      "\t\tDAC tile 1, blk 2 is 2_229, on JHC1\n",
      "\t5:\taxis_sg_int4_v2 - envelope memory 16384 samples (38.095 us)\n",
      "\t\tfs=6881.280 MHz, fabric=430.080 MHz, 32-bit DDS, range=1720.320 MHz\n",
      "\t\tDAC tile 0, blk 0 is 0_228, on JHC1\n",
      "\t6:\taxis_sg_int4_v2 - envelope memory 8192 samples (19.048 us)\n",
      "\t\tfs=6881.280 MHz, fabric=430.080 MHz, 32-bit DDS, range=1720.320 MHz\n",
      "\t\tDAC tile 0, blk 1 is 1_228, on JHC2\n",
      "\t7:\taxis_sg_int4_v2 - envelope memory 16384 samples (38.095 us)\n",
      "\t\tfs=6881.280 MHz, fabric=430.080 MHz, 32-bit DDS, range=1720.320 MHz\n",
      "\t\tDAC tile 0, blk 2 is 2_228, on JHC1\n",
      "\t8:\taxis_sg_int4_v2 - envelope memory 8192 samples (19.048 us)\n",
      "\t\tfs=6881.280 MHz, fabric=430.080 MHz, 32-bit DDS, range=1720.320 MHz\n",
      "\t\tDAC tile 0, blk 3 is 3_228, on JHC2\n",
      "\n",
      "\t8 readout channels:\n",
      "\t0:\taxis_pfb_readout_v4 - configured by PYNQ\n",
      "\t\tfs=2457.600 MHz, decimated=38.400 MHz, 32-bit DDS, range=38.400 MHz\n",
      "\t\taxis_avg_buffer v1.0 (no edge counter)\n",
      "\t\tmaxlen 8192 accumulated, 1024 decimated (26.667 us)\n",
      "\t\ttriggered by tport 7, pin 0, feedback to tProc input 0\n",
      "\t\tADC tile 2, blk 0 is 0_226, on JHC7\n",
      "\t1:\taxis_pfb_readout_v4 - configured by PYNQ\n",
      "\t\tfs=2457.600 MHz, decimated=38.400 MHz, 32-bit DDS, range=38.400 MHz\n",
      "\t\taxis_avg_buffer v1.0 (no edge counter)\n",
      "\t\tmaxlen 8192 accumulated, 1024 decimated (26.667 us)\n",
      "\t\ttriggered by tport 6, pin 0, feedback to tProc input 1\n",
      "\t\tADC tile 2, blk 0 is 0_226, on JHC7\n",
      "\t2:\taxis_pfb_readout_v4 - configured by PYNQ\n",
      "\t\tfs=2457.600 MHz, decimated=38.400 MHz, 32-bit DDS, range=38.400 MHz\n",
      "\t\taxis_avg_buffer v1.0 (no edge counter)\n",
      "\t\tmaxlen 8192 accumulated, 1024 decimated (26.667 us)\n",
      "\t\ttriggered by tport 12, pin 0, feedback to tProc input 2\n",
      "\t\tADC tile 2, blk 0 is 0_226, on JHC7\n",
      "\t3:\taxis_pfb_readout_v4 - configured by PYNQ\n",
      "\t\tfs=2457.600 MHz, decimated=38.400 MHz, 32-bit DDS, range=38.400 MHz\n",
      "\t\taxis_avg_buffer v1.0 (no edge counter)\n",
      "\t\tmaxlen 8192 accumulated, 1024 decimated (26.667 us)\n",
      "\t\ttriggered by tport 13, pin 0, feedback to tProc input 3\n",
      "\t\tADC tile 2, blk 0 is 0_226, on JHC7\n",
      "\t4:\taxis_pfb_readout_v4 - configured by PYNQ\n",
      "\t\tfs=2457.600 MHz, decimated=38.400 MHz, 32-bit DDS, range=38.400 MHz\n",
      "\t\taxis_avg_buffer v1.0 (no edge counter)\n",
      "\t\tmaxlen 8192 accumulated, 1024 decimated (26.667 us)\n",
      "\t\ttriggered by tport 14, pin 0, feedback to tProc input 4\n",
      "\t\tADC tile 2, blk 0 is 0_226, on JHC7\n",
      "\t5:\taxis_pfb_readout_v4 - configured by PYNQ\n",
      "\t\tfs=2457.600 MHz, decimated=38.400 MHz, 32-bit DDS, range=38.400 MHz\n",
      "\t\taxis_avg_buffer v1.0 (no edge counter)\n",
      "\t\tmaxlen 8192 accumulated, 1024 decimated (26.667 us)\n",
      "\t\ttriggered by tport 15, pin 0, feedback to tProc input 5\n",
      "\t\tADC tile 2, blk 0 is 0_226, on JHC7\n",
      "\t6:\taxis_pfb_readout_v4 - configured by PYNQ\n",
      "\t\tfs=2457.600 MHz, decimated=38.400 MHz, 32-bit DDS, range=38.400 MHz\n",
      "\t\taxis_avg_buffer v1.0 (no edge counter)\n",
      "\t\tmaxlen 8192 accumulated, 1024 decimated (26.667 us)\n",
      "\t\ttriggered by tport 16, pin 0, feedback to tProc input 6\n",
      "\t\tADC tile 2, blk 0 is 0_226, on JHC7\n",
      "\t7:\taxis_pfb_readout_v4 - configured by PYNQ\n",
      "\t\tfs=2457.600 MHz, decimated=38.400 MHz, 32-bit DDS, range=38.400 MHz\n",
      "\t\taxis_avg_buffer v1.0 (no edge counter)\n",
      "\t\tmaxlen 8192 accumulated, 1024 decimated (26.667 us)\n",
      "\t\ttriggered by tport 17, pin 0, feedback to tProc input 7\n",
      "\t\tADC tile 2, blk 0 is 0_226, on JHC7\n",
      "\n",
      "\t0 digital output pins:\n",
      "\n",
      "\ttProc qick_processor (\"v2\") rev 21: program memory 4096 words, data memory 16384 words\n",
      "\t\texternal start pin: None\n"
     ]
    }
   ],
   "source": [
    "soc = QickSoc(bitfile=\"/home/xilinx/jupyter_notebooks/TII_QICK/qick/qick_demos/custom/drivers/216_tProc_v8.bit\")\n",
    "soccfg = soc\n",
    "print(soccfg)"
   ]
  },
  {
   "cell_type": "code",
   "execution_count": 5,
   "id": "be3dc342-5431-40e5-90bd-006e15eb50bf",
   "metadata": {},
   "outputs": [],
   "source": [
    "import sys\n",
    "sys.path.append('/home/xilinx/jupyter_notebooks/qick/qick_demos/custom/drivers')\n",
    "\n",
    "from TIDAC80508 import TIDAC80508\n",
    "tidac = TIDAC80508()"
   ]
  },
  {
   "cell_type": "code",
   "execution_count": 6,
   "id": "3b2251a6-9317-4e1f-8e28-be7e67f879f3",
   "metadata": {},
   "outputs": [],
   "source": [
    "### SET POWER FOR DACs ###\n",
    "dac_2280 = soccfg.usp_rf_data_converter_0.dac_tiles[0].blocks[0]\n",
    "dac_2280.SetDACVOP(40000)\n",
    "dac_2281 = soccfg.usp_rf_data_converter_0.dac_tiles[0].blocks[1]\n",
    "dac_2281.SetDACVOP(40000)\n",
    "dac_2282 = soccfg.usp_rf_data_converter_0.dac_tiles[0].blocks[2]\n",
    "dac_2282.SetDACVOP(40000)\n",
    "dac_2283 = soccfg.usp_rf_data_converter_0.dac_tiles[0].blocks[3]\n",
    "dac_2283.SetDACVOP(40000)\n",
    "dac_2290 = soccfg.usp_rf_data_converter_0.dac_tiles[1].blocks[0]\n",
    "dac_2290.SetDACVOP(40000)\n",
    "\n",
    "dac_2292 = soccfg.usp_rf_data_converter_0.dac_tiles[1].blocks[2]\n",
    "dac_2292.SetDACVOP(40000)\n",
    "\n",
    "dac_2230 = soccfg.usp_rf_data_converter_0.dac_tiles[2].blocks[0]\n",
    "dac_2230.SetDACVOP(40000)\n",
    "dac_2231 = soccfg.usp_rf_data_converter_0.dac_tiles[2].blocks[1]\n",
    "dac_2231.SetDACVOP(40000)\n",
    "dac_2232 = soccfg.usp_rf_data_converter_0.dac_tiles[2].blocks[2]\n",
    "dac_2232.SetDACVOP(40000)"
   ]
  },
  {
   "cell_type": "code",
   "execution_count": 7,
   "id": "999f163c-4643-48ba-83c9-0ea79899f1eb",
   "metadata": {},
   "outputs": [],
   "source": [
    "### ENABLE MULTI TILE SYNCHRONIZATION ###\n",
    "soccfg.usp_rf_data_converter_0.mts_dac_config.RefTile = 2\n",
    "soccfg.usp_rf_data_converter_0.mts_dac_config.Tiles = 0b0011\n",
    "soccfg.usp_rf_data_converter_0.mts_dac_config.SysRef_Enable = 1\n",
    "soccfg.usp_rf_data_converter_0.mts_dac_config.Target_Latency = -1\n",
    "soccfg.usp_rf_data_converter_0.mts_dac()"
   ]
  },
  {
   "cell_type": "code",
   "execution_count": 8,
   "id": "a39c7c09-f2bd-4316-81b1-86e1136123c0",
   "metadata": {},
   "outputs": [],
   "source": [
    "FLUX         = [0,1,2]            # DAC\n",
    "PROBE_CH     = 4                  # DAC\n",
    "DRIVE        = [5,6,7,8,3]        # DAC\n",
    "FEEDBACK_PFB = [0,1,2,3,4,5,6,7]  # ADC\n",
    "MAX_GAIN     = 32766  "
   ]
  },
  {
   "cell_type": "code",
   "execution_count": 9,
   "id": "09135f44-4436-4f95-9129-5b4596fb1d2d",
   "metadata": {},
   "outputs": [],
   "source": [
    "class MuxProgram(AveragerProgramV2):\n",
    "    def _initialize(self, cfg):\n",
    "        ro_chs = cfg['ro_chs']\n",
    "        gen_ch = cfg['gen_ch']\n",
    "        flux_ch  = cfg['flux'][0]   \n",
    "        \n",
    "        self.declare_gen(ch=gen_ch, nqz=cfg['nqz'], ro_ch=ro_chs[0], mux_freqs=cfg['pulse_freqs'], mux_gains=cfg['pulse_gains'],  mux_phases=cfg['pulse_phases'], mixer_freq=cfg['mixer_freq'])\n",
    "        for ch, f, ph in zip(cfg['ro_chs'], cfg['pulse_freqs'], cfg['ro_phases']):\n",
    "            self.declare_readout(ch=ch, length=cfg['ro_len'], freq=f, phase=ph, gen_ch=gen_ch)\n",
    "        self.add_pulse(ch=gen_ch, name=\"mymux\", style=\"const\", length=cfg[\"pulse_len_ro\"], mask=[0,1,2,3,4,5,6,7])        \n",
    "        \n",
    "        self.declare_gen(ch=cfg['drive'][0], nqz=2, mixer_freq=4000)\n",
    "        self.add_gauss(ch=cfg['drive'][0], name=\"gauss\", sigma=cfg['pulse_len_gauss']/5, length=cfg['pulse_len_gauss'], even_length=True)\n",
    "        self.add_pulse(ch=cfg['drive'][0], name=\"y/2\", style=\"arb\", envelope=\"gauss\", freq=cfg['freq2'], phase=0, gain=1.0)\n",
    "        \n",
    "        self.declare_gen(ch=cfg['drive'][4], nqz=2, mixer_freq=4000)\n",
    "        self.add_gauss(ch=cfg['drive'][4], name=\"gauss\", sigma=cfg['pulse_len_gauss']/5, length=cfg['pulse_len_gauss'], even_length=True)\n",
    "        self.add_pulse(ch=cfg['drive'][4], name=\"z/2\", style=\"arb\", envelope=\"gauss\", freq=cfg['freq2'], phase=0, gain=1.0)\n",
    "        \n",
    "        flux_pulse_length = 16 * int(self.cfg[\"pulse_len_flux\"] * 599.04)\n",
    "        time  = np.arange(0, flux_pulse_length) * self.cfg[\"pulse_len_flux\"] / flux_pulse_length\n",
    "        flux_i = 0.5 * (1 + np.exp(0.1 * time))          \n",
    "        self.declare_gen(ch=flux_ch, nqz=1)\n",
    "        self.add_envelope(ch=flux_ch, name=\"rfpulse\", idata=0.95*MAX_GAIN*flux_i, qdata=None)\n",
    "        self.add_pulse(ch=flux_ch, name=\"x/2\", style=\"arb\", envelope=\"rfpulse\", freq=cfg['freq1'], phase=0, gain=1.0)\n",
    "        \n",
    "    def _body(self, cfg):\n",
    "        self.trigger(ros=cfg['ro_chs'], t=cfg['trig_time'])\n",
    "        self.pulse(ch=cfg['drive'][0], name=\"y/2\",   t=0)\n",
    "        self.pulse(ch=cfg['drive'][4], name=\"z/2\",   t=0)\n",
    "        self.pulse(ch=cfg['flux'][0] , name=\"x/2\",   t=0.02)\n",
    "        self.pulse(ch=cfg['gen_ch']  , name=\"mymux\", t=0.05)"
   ]
  },
  {
   "cell_type": "code",
   "execution_count": 10,
   "id": "db83e3fe-7e25-489a-9534-484a76ed5eb8",
   "metadata": {},
   "outputs": [],
   "source": [
    "config = {'drive': DRIVE,\n",
    "          'flux':  FLUX,\n",
    "          'gen_ch': PROBE_CH,\n",
    "          'ro_chs': FEEDBACK_PFB,\n",
    "          'mixer_freq': 5000,\n",
    "          'nqz': 2,\n",
    "          'pulse_freqs':  5000 + np.arange(8)*50,\n",
    "          'pulse_gains':  [1,0,1,0,1,0,1,0],\n",
    "          'pulse_phases': [0,0,0,0,0,0,0,0],\n",
    "          'ro_phases':    [0,0,0,0,0,0,0,0],\n",
    "          'trig_time': 0.7,\n",
    "          'freq1': 0,\n",
    "          'freq2': 4500,\n",
    "          'pulse_len_flux' : 70/430.08,\n",
    "          'pulse_len_gauss': 70/430.08,\n",
    "          'pulse_len_ro': 70/430.08,\n",
    "          'ro_len': 70/430.08,\n",
    "         }"
   ]
  },
  {
   "cell_type": "code",
   "execution_count": 13,
   "id": "95d8fe79-c1f5-4fa7-a97c-4d0fd5921890",
   "metadata": {},
   "outputs": [
    {
     "data": {
      "application/vnd.jupyter.widget-view+json": {
       "model_id": "e2ed445d411c4b10970138ae1aacd777",
       "version_major": 2,
       "version_minor": 0
      },
      "text/plain": [
       "  0%|          | 0/1 [00:00<?, ?it/s]"
      ]
     },
     "metadata": {},
     "output_type": "display_data"
    },
    {
     "data": {
      "text/plain": [
       "'\\nt = prog.get_time_axis(ro_index=0)\\nfig, axes = plt.subplots(4, 2, figsize=(24,16))\\naxes[0,0].plot(t, np.abs(iq_list[0].dot([1,1j])))\\naxes[0,0].set_ylim(0, 400)\\naxes[0,0].set_title(\"CH1 - {} MHz\".format(config[\\'pulse_freqs\\'][0]))\\naxes[0,1].plot(t, np.abs(iq_list[1].dot([1,1j])))\\naxes[0,1].set_ylim(0, 400)\\naxes[0,1].set_title(\"CH2 - {} MHz\".format(config[\\'pulse_freqs\\'][1]))\\naxes[1,0].plot(t, np.abs(iq_list[2].dot([1,1j])))\\naxes[1,0].set_ylim(0, 400)\\naxes[1,0].set_title(\"CH3 - {} MHz\".format(config[\\'pulse_freqs\\'][2]))\\naxes[1,1].plot(t, np.abs(iq_list[3].dot([1,1j])))\\naxes[1,1].set_ylim(0, 400)\\naxes[1,1].set_title(\"CH4 - {} MHz\".format(config[\\'pulse_freqs\\'][3]))\\naxes[2,0].plot(t, np.abs(iq_list[4].dot([1,1j])))\\naxes[2,0].set_ylim(0, 400)\\naxes[2,0].set_title(\"CH5 - {} MHz\".format(config[\\'pulse_freqs\\'][4]))\\naxes[2,1].plot(t, np.abs(iq_list[5].dot([1,1j])))\\naxes[2,1].set_ylim(0, 400)\\naxes[2,1].set_title(\"CH6 - {} MHz\".format(config[\\'pulse_freqs\\'][5]))\\naxes[3,0].plot(t, np.abs(iq_list[6].dot([1,1j])))\\naxes[3,0].set_ylim(0, 400)\\naxes[3,0].set_title(\"CH7 - {} MHz\".format(config[\\'pulse_freqs\\'][6]))\\naxes[3,1].plot(t, np.abs(iq_list[7].dot([1,1j])))\\naxes[3,1].set_ylim(0, 400)\\naxes[3,1].set_title(\"CH8 - {} MHz\".format(config[\\'pulse_freqs\\'][7]))\\nplt.show()\\n'"
      ]
     },
     "execution_count": 13,
     "metadata": {},
     "output_type": "execute_result"
    }
   ],
   "source": [
    "\"\"\"\n",
    "prog = MuxProgram(soccfg, reps=1, final_delay=0.5, cfg=config)\n",
    "iq_list = prog.acquire_decimated(soc, soft_avgs=1, progress=False)\n",
    "\n",
    "phases = [np.angle(iq.mean(axis=0).dot([1,1j]), deg=True) for iq in iq_list]\n",
    "config['pulse_phases'] = [-x for x in phases]\n",
    "print(\"phase offsets:\", config['pulse_phases'])\n",
    "print(\"frequencies  :\", config['pulse_freqs'])\n",
    "\"\"\"\n",
    "prog = MuxProgram(soccfg, reps=1, final_delay=0.5, cfg=config)\n",
    "iq_list = prog.acquire_decimated(soc, soft_avgs=1, start_src=\"external\")\n",
    "\"\"\"\n",
    "t = prog.get_time_axis(ro_index=0)\n",
    "fig, axes = plt.subplots(4, 2, figsize=(24,16))\n",
    "axes[0,0].plot(t, np.abs(iq_list[0].dot([1,1j])))\n",
    "axes[0,0].set_ylim(0, 400)\n",
    "axes[0,0].set_title(\"CH1 - {} MHz\".format(config['pulse_freqs'][0]))\n",
    "axes[0,1].plot(t, np.abs(iq_list[1].dot([1,1j])))\n",
    "axes[0,1].set_ylim(0, 400)\n",
    "axes[0,1].set_title(\"CH2 - {} MHz\".format(config['pulse_freqs'][1]))\n",
    "axes[1,0].plot(t, np.abs(iq_list[2].dot([1,1j])))\n",
    "axes[1,0].set_ylim(0, 400)\n",
    "axes[1,0].set_title(\"CH3 - {} MHz\".format(config['pulse_freqs'][2]))\n",
    "axes[1,1].plot(t, np.abs(iq_list[3].dot([1,1j])))\n",
    "axes[1,1].set_ylim(0, 400)\n",
    "axes[1,1].set_title(\"CH4 - {} MHz\".format(config['pulse_freqs'][3]))\n",
    "axes[2,0].plot(t, np.abs(iq_list[4].dot([1,1j])))\n",
    "axes[2,0].set_ylim(0, 400)\n",
    "axes[2,0].set_title(\"CH5 - {} MHz\".format(config['pulse_freqs'][4]))\n",
    "axes[2,1].plot(t, np.abs(iq_list[5].dot([1,1j])))\n",
    "axes[2,1].set_ylim(0, 400)\n",
    "axes[2,1].set_title(\"CH6 - {} MHz\".format(config['pulse_freqs'][5]))\n",
    "axes[3,0].plot(t, np.abs(iq_list[6].dot([1,1j])))\n",
    "axes[3,0].set_ylim(0, 400)\n",
    "axes[3,0].set_title(\"CH7 - {} MHz\".format(config['pulse_freqs'][6]))\n",
    "axes[3,1].plot(t, np.abs(iq_list[7].dot([1,1j])))\n",
    "axes[3,1].set_ylim(0, 400)\n",
    "axes[3,1].set_title(\"CH8 - {} MHz\".format(config['pulse_freqs'][7]))\n",
    "plt.show()\n",
    "\"\"\""
   ]
  },
  {
   "cell_type": "code",
   "execution_count": null,
   "id": "530af964-66f0-4d1c-a9db-924ffe03c74f",
   "metadata": {},
   "outputs": [],
   "source": []
  }
 ],
 "metadata": {
  "kernelspec": {
   "display_name": "Python 3 (ipykernel)",
   "language": "python",
   "name": "python3"
  },
  "language_info": {
   "codemirror_mode": {
    "name": "ipython",
    "version": 3
   },
   "file_extension": ".py",
   "mimetype": "text/x-python",
   "name": "python",
   "nbconvert_exporter": "python",
   "pygments_lexer": "ipython3",
   "version": "3.10.4"
  }
 },
 "nbformat": 4,
 "nbformat_minor": 5
}
